{
  "nbformat": 4,
  "nbformat_minor": 0,
  "metadata": {
    "colab": {
      "name": "despesa.ipynb",
      "provenance": [],
      "mount_file_id": "1kaw9NZKk_cR0_35tCG2mTLL-rdedbdFE",
      "authorship_tag": "ABX9TyNikTQsuGlWSLZo3wnMzZaK",
      "include_colab_link": true
    },
    "kernelspec": {
      "name": "python3",
      "display_name": "Python 3"
    },
    "language_info": {
      "name": "python"
    }
  },
  "cells": [
    {
      "cell_type": "markdown",
      "metadata": {
        "id": "view-in-github",
        "colab_type": "text"
      },
      "source": [
        "<a href=\"https://colab.research.google.com/github/etgcrog/arduino/blob/main/despesa.ipynb\" target=\"_parent\"><img src=\"https://colab.research.google.com/assets/colab-badge.svg\" alt=\"Open In Colab\"/></a>"
      ]
    },
    {
      "cell_type": "code",
      "execution_count": null,
      "metadata": {
        "id": "O5Ps0ijEW9Tw"
      },
      "outputs": [],
      "source": [
        "import pandas as pd"
      ]
    },
    {
      "cell_type": "code",
      "source": [
        "df2018 = pd.read_csv(\"/content/drive/MyDrive/dados_despesas/2018_OrcamentoDespesa.zip.csv\", sep=';', encoding='ISO-8859-1')\n",
        "df2019 = pd.read_csv(\"/content/drive/MyDrive/dados_despesas/2019_OrcamentoDespesa.zip.csv\", sep=';', encoding='ISO-8859-1')\n",
        "df2020 = pd.read_csv(\"/content/drive/MyDrive/dados_despesas/2020_OrcamentoDespesa.zip.csv\", sep=';', encoding='ISO-8859-1')\n",
        "df2021 = pd.read_csv(\"/content/drive/MyDrive/dados_despesas/2021_OrcamentoDespesa.zip.csv\", sep=';', encoding='ISO-8859-1')"
      ],
      "metadata": {
        "id": "rrfG75EnXAEZ"
      },
      "execution_count": null,
      "outputs": []
    },
    {
      "cell_type": "code",
      "source": [
        "df2018.columns"
      ],
      "metadata": {
        "colab": {
          "base_uri": "https://localhost:8080/"
        },
        "id": "7NGtndcjedRk",
        "outputId": "f9163da8-f646-43a6-e2b3-4807c01c2f0a"
      },
      "execution_count": null,
      "outputs": [
        {
          "output_type": "execute_result",
          "data": {
            "text/plain": [
              "Index(['EXERCÍCIO', 'CÓDIGO ÓRGÃO SUPERIOR', 'NOME ÓRGÃO SUPERIOR',\n",
              "       'CÓDIGO ÓRGÃO SUBORDINADO', 'NOME ÓRGÃO SUBORDINADO',\n",
              "       'CÓDIGO UNIDADE ORÇAMENTÁRIA', 'NOME UNIDADE ORÇAMENTÁRIA',\n",
              "       'CÓDIGO FUNÇÃO', 'NOME FUNÇÃO', 'CÓDIGO SUBFUNÇÃO', 'NOME SUBFUNÇÃO',\n",
              "       'CÓDIGO PROGRAMA ORÇAMENTÁRIO', 'NOME PROGRAMA ORÇAMENTÁRIO',\n",
              "       'CÓDIGO AÇÃO', 'NOME AÇÃO', 'CÓDIGO CATEGORIA ECONÔMICA',\n",
              "       'NOME CATEGORIA ECONÔMICA', 'CÓDIGO GRUPO DE DESPESA',\n",
              "       'NOME GRUPO DE DESPESA', 'CÓDIGO ELEMENTO DE DESPESA',\n",
              "       'NOME ELEMENTO DE DESPESA', 'ORÇAMENTO INICIAL (R$)',\n",
              "       'ORÇAMENTO ATUALIZADO (R$)', 'ORÇAMENTO EMPENHADO (R$)',\n",
              "       'ORÇAMENTO REALIZADO (R$)'],\n",
              "      dtype='object')"
            ]
          },
          "metadata": {},
          "execution_count": 82
        }
      ]
    },
    {
      "cell_type": "markdown",
      "source": [
        ""
      ],
      "metadata": {
        "id": "ba0EeQ9redLZ"
      }
    },
    {
      "cell_type": "code",
      "source": [
        "temp1 = df2018.append(df2019)\n",
        "temp2 = temp1.append(df2020)\n",
        "df = temp2.append(df2021)"
      ],
      "metadata": {
        "id": "UMDfcua1bEJi"
      },
      "execution_count": null,
      "outputs": []
    },
    {
      "cell_type": "code",
      "source": [
        "df = df[['EXERCÍCIO', 'CÓDIGO ÓRGÃO SUPERIOR', 'NOME ÓRGÃO SUPERIOR',\n",
        "       'CÓDIGO ÓRGÃO SUBORDINADO', 'NOME ÓRGÃO SUBORDINADO',\n",
        "       'CÓDIGO UNIDADE ORÇAMENTÁRIA', 'NOME UNIDADE ORÇAMENTÁRIA',\n",
        "       'CÓDIGO FUNÇÃO', 'NOME FUNÇÃO', 'CÓDIGO SUBFUNÇÃO', 'NOME SUBFUNÇÃO',\n",
        "       'CÓDIGO PROGRAMA ORÇAMENTÁRIO', 'NOME PROGRAMA ORÇAMENTÁRIO',\n",
        "       'CÓDIGO AÇÃO', 'NOME AÇÃO', 'CÓDIGO GRUPO DE DESPESA',\n",
        "       'NOME GRUPO DE DESPESA', 'CÓDIGO ELEMENTO DE DESPESA',\n",
        "       'NOME ELEMENTO DE DESPESA', 'ORÇAMENTO INICIAL (R$)',\n",
        "       'ORÇAMENTO ATUALIZADO (R$)', 'ORÇAMENTO EMPENHADO (R$)',\n",
        "       'ORÇAMENTO REALIZADO (R$)']]"
      ],
      "metadata": {
        "id": "y2Q-cy5gbWsL"
      },
      "execution_count": null,
      "outputs": []
    },
    {
      "cell_type": "code",
      "source": [
        "df2018.columns"
      ],
      "metadata": {
        "colab": {
          "base_uri": "https://localhost:8080/"
        },
        "outputId": "2338ffc1-82b5-40d9-b3d9-1feb10000733",
        "id": "swWP4Hz1g3ON"
      },
      "execution_count": null,
      "outputs": [
        {
          "output_type": "execute_result",
          "data": {
            "text/plain": [
              "Index(['EXERCÍCIO', 'CÓDIGO ÓRGÃO SUPERIOR', 'NOME ÓRGÃO SUPERIOR',\n",
              "       'CÓDIGO ÓRGÃO SUBORDINADO', 'NOME ÓRGÃO SUBORDINADO',\n",
              "       'CÓDIGO UNIDADE ORÇAMENTÁRIA', 'NOME UNIDADE ORÇAMENTÁRIA',\n",
              "       'CÓDIGO FUNÇÃO', 'NOME FUNÇÃO', 'CÓDIGO SUBFUNÇÃO', 'NOME SUBFUNÇÃO',\n",
              "       'CÓDIGO PROGRAMA ORÇAMENTÁRIO', 'NOME PROGRAMA ORÇAMENTÁRIO',\n",
              "       'CÓDIGO AÇÃO', 'NOME AÇÃO', 'CÓDIGO CATEGORIA ECONÔMICA',\n",
              "       'NOME CATEGORIA ECONÔMICA', 'CÓDIGO GRUPO DE DESPESA',\n",
              "       'NOME GRUPO DE DESPESA', 'CÓDIGO ELEMENTO DE DESPESA',\n",
              "       'NOME ELEMENTO DE DESPESA', 'ORÇAMENTO INICIAL (R$)',\n",
              "       'ORÇAMENTO ATUALIZADO (R$)', 'ORÇAMENTO EMPENHADO (R$)',\n",
              "       'ORÇAMENTO REALIZADO (R$)'],\n",
              "      dtype='object')"
            ]
          },
          "metadata": {},
          "execution_count": 86
        }
      ]
    },
    {
      "cell_type": "code",
      "source": [
        "df = df.rename({\n",
        "    'EXERCÍCIO': 'ano',\n",
        "    'CÓDIGO ÓRGÃO SUPERIOR': 'cod_orgao',\n",
        "    'NOME ÓRGÃO SUPERIOR': 'nome_orgao',\n",
        "    'CÓDIGO ÓRGÃO SUBORDINADO': 'cod_sub',\n",
        "    'NOME ÓRGÃO SUBORDINADO': 'nome_sub', \n",
        "    'CÓDIGO UNIDADE ORÇAMENTÁRIA': 'cod_unidade', \n",
        "    'NOME UNIDADE ORÇAMENTÁRIA' : 'nome_unidade', \n",
        "    'CÓDIGO FUNÇÃO': 'cod_funcao',\n",
        "    'NOME FUNÇÃO': 'nome_funcao',\n",
        "    'CÓDIGO SUBFUNÇÃO': 'cod_subfuncao',\n",
        "    'NOME SUBFUNÇÃO': 'nome_subfuncao', \n",
        "    'CÓDIGO PROGRAMA ORÇAMENTÁRIO': 'cod_programa',\n",
        "    'NOME PROGRAMA ORÇAMENTÁRIO' : 'nome_programa',\n",
        "    'CÓDIGO AÇÃO': 'cod_acao','NOME AÇÃO' : 'nome_acao',\n",
        "    'CÓDIGO CATEGORIA ECONÔMICA': 'cod_categoria_eco',\n",
        "    'NOME CATEGORIA ECONÔMICA': 'nome_categoria_eco',\n",
        "    'CÓDIGO GRUPO DE DESPESA': 'cod_grp_despesa',\n",
        "    'NOME GRUPO DE DESPESA': 'nome_grp_despesa',\n",
        "    'CÓDIGO ELEMENTO DE DESPESA': 'cod_elemento',\n",
        "    'NOME ELEMENTO DE DESPESA': 'nome_despesa',\n",
        "    'ORÇAMENTO INICIAL (R$)': 'orcamento_inicial',\n",
        "    'ORÇAMENTO ATUALIZADO (R$)': 'orcamento_atualizado',\n",
        "    'ORÇAMENTO EMPENHADO (R$)': 'orcamento_empenhado',\n",
        "    'ORÇAMENTO REALIZADO (R$)': 'orcamento_realizado'} , axis=1)"
      ],
      "metadata": {
        "id": "kQkTgbo0bh6p"
      },
      "execution_count": null,
      "outputs": []
    },
    {
      "cell_type": "code",
      "source": [
        "df['orcamento_inicial'] = df['orcamento_inicial'].apply(lambda x : x.replace(',','.')).astype('float')\n",
        "df['orcamento_atualizado'] = df['orcamento_atualizado'].apply(lambda x : x.replace(',','.')).astype('float')\n",
        "df['orcamento_empenhado'] = df['orcamento_empenhado'].apply(lambda x : x.replace(',','.')).astype('float')\n",
        "df['orcamento_realizado'] = df['orcamento_realizado'].apply(lambda x : x.replace(',','.')).astype('float')"
      ],
      "metadata": {
        "id": "uWeUqhq8cYF_"
      },
      "execution_count": null,
      "outputs": []
    },
    {
      "cell_type": "code",
      "source": [
        "df.to_csv('despesas_final.csv', index=False)"
      ],
      "metadata": {
        "id": "SkAZfzvEcoxW"
      },
      "execution_count": null,
      "outputs": []
    },
    {
      "cell_type": "code",
      "source": [
        "df2018['ORÇAMENTO INICIAL (R$)'] = df2018['ORÇAMENTO INICIAL (R$)'].apply(lambda x : x.replace(',','.'))"
      ],
      "metadata": {
        "colab": {
          "base_uri": "https://localhost:8080/"
        },
        "id": "QdrhQN-iZzDB",
        "outputId": "17888d32-b424-4a28-9b6b-59f40db1d49e"
      },
      "execution_count": null,
      "outputs": [
        {
          "output_type": "stream",
          "name": "stdout",
          "text": [
            "<class 'pandas.core.frame.DataFrame'>\n",
            "RangeIndex: 25845 entries, 0 to 25844\n",
            "Data columns (total 11 columns):\n",
            " #   Column                      Non-Null Count  Dtype \n",
            "---  ------                      --------------  ----- \n",
            " 0   NOME ÓRGÃO SUPERIOR         25845 non-null  object\n",
            " 1   NOME ÓRGÃO SUBORDINADO      25845 non-null  object\n",
            " 2   NOME UNIDADE ORÇAMENTÁRIA   25845 non-null  object\n",
            " 3   NOME FUNÇÃO                 25845 non-null  object\n",
            " 4   NOME SUBFUNÇÃO              25845 non-null  object\n",
            " 5   NOME PROGRAMA ORÇAMENTÁRIO  25845 non-null  object\n",
            " 6   NOME GRUPO DE DESPESA       25845 non-null  object\n",
            " 7   ORÇAMENTO INICIAL (R$)      25845 non-null  object\n",
            " 8   ORÇAMENTO ATUALIZADO (R$)   25845 non-null  object\n",
            " 9   ORÇAMENTO EMPENHADO (R$)    25845 non-null  object\n",
            " 10  ORÇAMENTO REALIZADO (R$)    25845 non-null  object\n",
            "dtypes: object(11)\n",
            "memory usage: 2.2+ MB\n"
          ]
        }
      ]
    },
    {
      "cell_type": "code",
      "source": [
        "df2018['ORÇAMENTO INICIAL (R$)'] = df2018['ORÇAMENTO INICIAL (R$)'].astype('float')"
      ],
      "metadata": {
        "id": "qgvDOBXBaFP5"
      },
      "execution_count": null,
      "outputs": []
    },
    {
      "cell_type": "code",
      "source": [
        "round(df2018['ORÇAMENTO INICIAL (R$)'].mean(),2)"
      ],
      "metadata": {
        "colab": {
          "base_uri": "https://localhost:8080/"
        },
        "id": "LhvX5V_rYoy3",
        "outputId": "8088902a-931e-49e3-a1bb-d89bd309fcab"
      },
      "execution_count": null,
      "outputs": [
        {
          "output_type": "execute_result",
          "data": {
            "text/plain": [
              "132992818.88"
            ]
          },
          "metadata": {},
          "execution_count": 24
        }
      ]
    },
    {
      "cell_type": "code",
      "source": [
        "funcoes = df2018['NOME FUNÇÃO'].count"
      ],
      "metadata": {
        "id": "bijyQ7ZrXPYs"
      },
      "execution_count": null,
      "outputs": []
    },
    {
      "cell_type": "code",
      "source": [
        "qnt_funcao = df.groupby(\"NOME ÓRGÃO SUPERIOR\").count()"
      ],
      "metadata": {
        "id": "GtMMVUqsXeyx"
      },
      "execution_count": null,
      "outputs": []
    },
    {
      "cell_type": "code",
      "source": [
        "df"
      ],
      "metadata": {
        "colab": {
          "base_uri": "https://localhost:8080/",
          "height": 1000
        },
        "id": "Tv2M6jq1vXQQ",
        "outputId": "49322d0a-ea39-4ed8-b44e-fdcc48ae629a"
      },
      "execution_count": 159,
      "outputs": [
        {
          "output_type": "execute_result",
          "data": {
            "text/html": [
              "\n",
              "  <div id=\"df-fbd8e909-15fc-4839-a4ec-7bf9aeedefbf\">\n",
              "    <div class=\"colab-df-container\">\n",
              "      <div>\n",
              "<style scoped>\n",
              "    .dataframe tbody tr th:only-of-type {\n",
              "        vertical-align: middle;\n",
              "    }\n",
              "\n",
              "    .dataframe tbody tr th {\n",
              "        vertical-align: top;\n",
              "    }\n",
              "\n",
              "    .dataframe thead th {\n",
              "        text-align: right;\n",
              "    }\n",
              "</style>\n",
              "<table border=\"1\" class=\"dataframe\">\n",
              "  <thead>\n",
              "    <tr style=\"text-align: right;\">\n",
              "      <th></th>\n",
              "      <th>ano</th>\n",
              "      <th>cod_orgao</th>\n",
              "      <th>nome_orgao</th>\n",
              "      <th>cod_sub</th>\n",
              "      <th>nome_sub</th>\n",
              "      <th>cod_unidade</th>\n",
              "      <th>nome_unidade</th>\n",
              "      <th>cod_funcao</th>\n",
              "      <th>nome_funcao</th>\n",
              "      <th>cod_subfuncao</th>\n",
              "      <th>nome_subfuncao</th>\n",
              "      <th>cod_programa</th>\n",
              "      <th>nome_programa</th>\n",
              "      <th>cod_acao</th>\n",
              "      <th>nome_acao</th>\n",
              "      <th>cod_grp_despesa</th>\n",
              "      <th>nome_grp_despesa</th>\n",
              "      <th>cod_elemento</th>\n",
              "      <th>nome_despesa</th>\n",
              "      <th>orcamento_inicial</th>\n",
              "      <th>orcamento_atualizado</th>\n",
              "      <th>orcamento_empenhado</th>\n",
              "      <th>orcamento_realizado</th>\n",
              "    </tr>\n",
              "  </thead>\n",
              "  <tbody>\n",
              "    <tr>\n",
              "      <th>0</th>\n",
              "      <td>2018</td>\n",
              "      <td>20000</td>\n",
              "      <td>Presidência da República</td>\n",
              "      <td>24208</td>\n",
              "      <td>Instituto Nacional de Tecnologia da Informação</td>\n",
              "      <td>20204</td>\n",
              "      <td>INST.NAC.DE TECNOLOGIA DA INFORMACAO-ITI</td>\n",
              "      <td>4</td>\n",
              "      <td>Administração</td>\n",
              "      <td>331</td>\n",
              "      <td>Proteção e benefícios ao trabalhador</td>\n",
              "      <td>2101</td>\n",
              "      <td>PROGRAMA DE GESTAO E MANUTENCAO DA PRESIDENCIA...</td>\n",
              "      <td>212B</td>\n",
              "      <td>BENEFICIOS OBRIGATORIOS AOS SERVIDORES CIVIS, ...</td>\n",
              "      <td>3</td>\n",
              "      <td>Outras Despesas Correntes</td>\n",
              "      <td>8</td>\n",
              "      <td>Outros Benefícios Assistenciais do servidor e ...</td>\n",
              "      <td>14400.00</td>\n",
              "      <td>14400.00</td>\n",
              "      <td>9148.50</td>\n",
              "      <td>8843.55</td>\n",
              "    </tr>\n",
              "    <tr>\n",
              "      <th>1</th>\n",
              "      <td>2018</td>\n",
              "      <td>20000</td>\n",
              "      <td>Presidência da República</td>\n",
              "      <td>24208</td>\n",
              "      <td>Instituto Nacional de Tecnologia da Informação</td>\n",
              "      <td>20204</td>\n",
              "      <td>INST.NAC.DE TECNOLOGIA DA INFORMACAO-ITI</td>\n",
              "      <td>4</td>\n",
              "      <td>Administração</td>\n",
              "      <td>331</td>\n",
              "      <td>Proteção e benefícios ao trabalhador</td>\n",
              "      <td>2101</td>\n",
              "      <td>PROGRAMA DE GESTAO E MANUTENCAO DA PRESIDENCIA...</td>\n",
              "      <td>212B</td>\n",
              "      <td>BENEFICIOS OBRIGATORIOS AOS SERVIDORES CIVIS, ...</td>\n",
              "      <td>3</td>\n",
              "      <td>Outras Despesas Correntes</td>\n",
              "      <td>0</td>\n",
              "      <td>Não informado</td>\n",
              "      <td>15704.00</td>\n",
              "      <td>15704.00</td>\n",
              "      <td>0.00</td>\n",
              "      <td>0.00</td>\n",
              "    </tr>\n",
              "    <tr>\n",
              "      <th>2</th>\n",
              "      <td>2018</td>\n",
              "      <td>20000</td>\n",
              "      <td>Presidência da República</td>\n",
              "      <td>20101</td>\n",
              "      <td>Presidência da República</td>\n",
              "      <td>20101</td>\n",
              "      <td>PRESIDENCIA DA REPUBLICA</td>\n",
              "      <td>4</td>\n",
              "      <td>Administração</td>\n",
              "      <td>331</td>\n",
              "      <td>Proteção e benefícios ao trabalhador</td>\n",
              "      <td>2101</td>\n",
              "      <td>PROGRAMA DE GESTAO E MANUTENCAO DA PRESIDENCIA...</td>\n",
              "      <td>212B</td>\n",
              "      <td>BENEFICIOS OBRIGATORIOS AOS SERVIDORES CIVIS, ...</td>\n",
              "      <td>3</td>\n",
              "      <td>Outras Despesas Correntes</td>\n",
              "      <td>49</td>\n",
              "      <td>Auxílio-Transporte</td>\n",
              "      <td>847291.48</td>\n",
              "      <td>847291.48</td>\n",
              "      <td>847291.48</td>\n",
              "      <td>783049.69</td>\n",
              "    </tr>\n",
              "    <tr>\n",
              "      <th>3</th>\n",
              "      <td>2018</td>\n",
              "      <td>20000</td>\n",
              "      <td>Presidência da República</td>\n",
              "      <td>20101</td>\n",
              "      <td>Presidência da República</td>\n",
              "      <td>20101</td>\n",
              "      <td>PRESIDENCIA DA REPUBLICA</td>\n",
              "      <td>4</td>\n",
              "      <td>Administração</td>\n",
              "      <td>331</td>\n",
              "      <td>Proteção e benefícios ao trabalhador</td>\n",
              "      <td>2101</td>\n",
              "      <td>PROGRAMA DE GESTAO E MANUTENCAO DA PRESIDENCIA...</td>\n",
              "      <td>212B</td>\n",
              "      <td>BENEFICIOS OBRIGATORIOS AOS SERVIDORES CIVIS, ...</td>\n",
              "      <td>3</td>\n",
              "      <td>Outras Despesas Correntes</td>\n",
              "      <td>8</td>\n",
              "      <td>Outros Benefícios Assistenciais do servidor e ...</td>\n",
              "      <td>115433.05</td>\n",
              "      <td>115433.05</td>\n",
              "      <td>115433.05</td>\n",
              "      <td>106156.00</td>\n",
              "    </tr>\n",
              "    <tr>\n",
              "      <th>4</th>\n",
              "      <td>2018</td>\n",
              "      <td>20000</td>\n",
              "      <td>Presidência da República</td>\n",
              "      <td>60000</td>\n",
              "      <td>Gabinete da Vice-Presidência da República</td>\n",
              "      <td>60101</td>\n",
              "      <td>GABINETE DA VICE-PRESIDENCIA DA REPUBLICA</td>\n",
              "      <td>4</td>\n",
              "      <td>Administração</td>\n",
              "      <td>331</td>\n",
              "      <td>Proteção e benefícios ao trabalhador</td>\n",
              "      <td>2101</td>\n",
              "      <td>PROGRAMA DE GESTAO E MANUTENCAO DA PRESIDENCIA...</td>\n",
              "      <td>212B</td>\n",
              "      <td>BENEFICIOS OBRIGATORIOS AOS SERVIDORES CIVIS, ...</td>\n",
              "      <td>3</td>\n",
              "      <td>Outras Despesas Correntes</td>\n",
              "      <td>49</td>\n",
              "      <td>Auxílio-Transporte</td>\n",
              "      <td>1680.65</td>\n",
              "      <td>1680.65</td>\n",
              "      <td>1680.65</td>\n",
              "      <td>1503.74</td>\n",
              "    </tr>\n",
              "    <tr>\n",
              "      <th>...</th>\n",
              "      <td>...</td>\n",
              "      <td>...</td>\n",
              "      <td>...</td>\n",
              "      <td>...</td>\n",
              "      <td>...</td>\n",
              "      <td>...</td>\n",
              "      <td>...</td>\n",
              "      <td>...</td>\n",
              "      <td>...</td>\n",
              "      <td>...</td>\n",
              "      <td>...</td>\n",
              "      <td>...</td>\n",
              "      <td>...</td>\n",
              "      <td>...</td>\n",
              "      <td>...</td>\n",
              "      <td>...</td>\n",
              "      <td>...</td>\n",
              "      <td>...</td>\n",
              "      <td>...</td>\n",
              "      <td>...</td>\n",
              "      <td>...</td>\n",
              "      <td>...</td>\n",
              "      <td>...</td>\n",
              "    </tr>\n",
              "    <tr>\n",
              "      <th>24779</th>\n",
              "      <td>2021</td>\n",
              "      <td>81000</td>\n",
              "      <td>Ministério da Mulher, Família e Direitos Humanos</td>\n",
              "      <td>81000</td>\n",
              "      <td>Ministério da Mulher, Família e Direitos Human...</td>\n",
              "      <td>93430</td>\n",
              "      <td>REC. SOB SUP. MINIST.MULHER F.D.H - ADM. DIR.</td>\n",
              "      <td>14</td>\n",
              "      <td>Direitos da cidadania</td>\n",
              "      <td>131</td>\n",
              "      <td>Comunicação social</td>\n",
              "      <td>32</td>\n",
              "      <td>PROGRAMA DE GESTAO E MANUTENCAO DO PODER EXECU...</td>\n",
              "      <td>4641</td>\n",
              "      <td>PUBLICIDADE DE UTILIDADE PUBLICA</td>\n",
              "      <td>3</td>\n",
              "      <td>Outras Despesas Correntes</td>\n",
              "      <td>0</td>\n",
              "      <td>Não informado</td>\n",
              "      <td>3977330.00</td>\n",
              "      <td>0.00</td>\n",
              "      <td>0.00</td>\n",
              "      <td>0.00</td>\n",
              "    </tr>\n",
              "    <tr>\n",
              "      <th>24780</th>\n",
              "      <td>2021</td>\n",
              "      <td>81000</td>\n",
              "      <td>Ministério da Mulher, Família e Direitos Humanos</td>\n",
              "      <td>81000</td>\n",
              "      <td>Ministério da Mulher, Família e Direitos Human...</td>\n",
              "      <td>81101</td>\n",
              "      <td>MINISTERIO DOS DIREITOS HUMANOS - MDH</td>\n",
              "      <td>14</td>\n",
              "      <td>Direitos da cidadania</td>\n",
              "      <td>243</td>\n",
              "      <td>Assistência à criança e ao adolescente</td>\n",
              "      <td>5034</td>\n",
              "      <td>PROTECAO A VIDA, FORTALECIMENTO DA FAMILIA, PR...</td>\n",
              "      <td>14UF</td>\n",
              "      <td>CONSTRUCAO, REFORMA, EQUIPAGEM E AMPLIACAO DE ...</td>\n",
              "      <td>4</td>\n",
              "      <td>Investimentos</td>\n",
              "      <td>0</td>\n",
              "      <td>Não informado</td>\n",
              "      <td>3000000.00</td>\n",
              "      <td>0.00</td>\n",
              "      <td>0.00</td>\n",
              "      <td>0.00</td>\n",
              "    </tr>\n",
              "    <tr>\n",
              "      <th>24781</th>\n",
              "      <td>2021</td>\n",
              "      <td>81000</td>\n",
              "      <td>Ministério da Mulher, Família e Direitos Humanos</td>\n",
              "      <td>81000</td>\n",
              "      <td>Ministério da Mulher, Família e Direitos Human...</td>\n",
              "      <td>81101</td>\n",
              "      <td>MINISTERIO DOS DIREITOS HUMANOS - MDH</td>\n",
              "      <td>14</td>\n",
              "      <td>Direitos da cidadania</td>\n",
              "      <td>243</td>\n",
              "      <td>Assistência à criança e ao adolescente</td>\n",
              "      <td>5034</td>\n",
              "      <td>PROTECAO A VIDA, FORTALECIMENTO DA FAMILIA, PR...</td>\n",
              "      <td>14UF</td>\n",
              "      <td>CONSTRUCAO, REFORMA, EQUIPAGEM E AMPLIACAO DE ...</td>\n",
              "      <td>4</td>\n",
              "      <td>Investimentos</td>\n",
              "      <td>41</td>\n",
              "      <td>Contribuições</td>\n",
              "      <td>1494820.00</td>\n",
              "      <td>1494820.00</td>\n",
              "      <td>1494820.00</td>\n",
              "      <td>0.00</td>\n",
              "    </tr>\n",
              "    <tr>\n",
              "      <th>24782</th>\n",
              "      <td>2021</td>\n",
              "      <td>81000</td>\n",
              "      <td>Ministério da Mulher, Família e Direitos Humanos</td>\n",
              "      <td>81000</td>\n",
              "      <td>Ministério da Mulher, Família e Direitos Human...</td>\n",
              "      <td>81101</td>\n",
              "      <td>MINISTERIO DOS DIREITOS HUMANOS - MDH</td>\n",
              "      <td>14</td>\n",
              "      <td>Direitos da cidadania</td>\n",
              "      <td>243</td>\n",
              "      <td>Assistência à criança e ao adolescente</td>\n",
              "      <td>5034</td>\n",
              "      <td>PROTECAO A VIDA, FORTALECIMENTO DA FAMILIA, PR...</td>\n",
              "      <td>14UF</td>\n",
              "      <td>CONSTRUCAO, REFORMA, EQUIPAGEM E AMPLIACAO DE ...</td>\n",
              "      <td>4</td>\n",
              "      <td>Investimentos</td>\n",
              "      <td>0</td>\n",
              "      <td>Não informado</td>\n",
              "      <td>100000.00</td>\n",
              "      <td>0.00</td>\n",
              "      <td>0.00</td>\n",
              "      <td>0.00</td>\n",
              "    </tr>\n",
              "    <tr>\n",
              "      <th>24783</th>\n",
              "      <td>2021</td>\n",
              "      <td>81000</td>\n",
              "      <td>Ministério da Mulher, Família e Direitos Humanos</td>\n",
              "      <td>81000</td>\n",
              "      <td>Ministério da Mulher, Família e Direitos Human...</td>\n",
              "      <td>81101</td>\n",
              "      <td>MINISTERIO DOS DIREITOS HUMANOS - MDH</td>\n",
              "      <td>14</td>\n",
              "      <td>Direitos da cidadania</td>\n",
              "      <td>243</td>\n",
              "      <td>Assistência à criança e ao adolescente</td>\n",
              "      <td>5034</td>\n",
              "      <td>PROTECAO A VIDA, FORTALECIMENTO DA FAMILIA, PR...</td>\n",
              "      <td>14UF</td>\n",
              "      <td>CONSTRUCAO, REFORMA, EQUIPAGEM E AMPLIACAO DE ...</td>\n",
              "      <td>4</td>\n",
              "      <td>Investimentos</td>\n",
              "      <td>0</td>\n",
              "      <td>Não informado</td>\n",
              "      <td>250000.00</td>\n",
              "      <td>250000.00</td>\n",
              "      <td>0.00</td>\n",
              "      <td>0.00</td>\n",
              "    </tr>\n",
              "  </tbody>\n",
              "</table>\n",
              "<p>104423 rows × 23 columns</p>\n",
              "</div>\n",
              "      <button class=\"colab-df-convert\" onclick=\"convertToInteractive('df-fbd8e909-15fc-4839-a4ec-7bf9aeedefbf')\"\n",
              "              title=\"Convert this dataframe to an interactive table.\"\n",
              "              style=\"display:none;\">\n",
              "        \n",
              "  <svg xmlns=\"http://www.w3.org/2000/svg\" height=\"24px\"viewBox=\"0 0 24 24\"\n",
              "       width=\"24px\">\n",
              "    <path d=\"M0 0h24v24H0V0z\" fill=\"none\"/>\n",
              "    <path d=\"M18.56 5.44l.94 2.06.94-2.06 2.06-.94-2.06-.94-.94-2.06-.94 2.06-2.06.94zm-11 1L8.5 8.5l.94-2.06 2.06-.94-2.06-.94L8.5 2.5l-.94 2.06-2.06.94zm10 10l.94 2.06.94-2.06 2.06-.94-2.06-.94-.94-2.06-.94 2.06-2.06.94z\"/><path d=\"M17.41 7.96l-1.37-1.37c-.4-.4-.92-.59-1.43-.59-.52 0-1.04.2-1.43.59L10.3 9.45l-7.72 7.72c-.78.78-.78 2.05 0 2.83L4 21.41c.39.39.9.59 1.41.59.51 0 1.02-.2 1.41-.59l7.78-7.78 2.81-2.81c.8-.78.8-2.07 0-2.86zM5.41 20L4 18.59l7.72-7.72 1.47 1.35L5.41 20z\"/>\n",
              "  </svg>\n",
              "      </button>\n",
              "      \n",
              "  <style>\n",
              "    .colab-df-container {\n",
              "      display:flex;\n",
              "      flex-wrap:wrap;\n",
              "      gap: 12px;\n",
              "    }\n",
              "\n",
              "    .colab-df-convert {\n",
              "      background-color: #E8F0FE;\n",
              "      border: none;\n",
              "      border-radius: 50%;\n",
              "      cursor: pointer;\n",
              "      display: none;\n",
              "      fill: #1967D2;\n",
              "      height: 32px;\n",
              "      padding: 0 0 0 0;\n",
              "      width: 32px;\n",
              "    }\n",
              "\n",
              "    .colab-df-convert:hover {\n",
              "      background-color: #E2EBFA;\n",
              "      box-shadow: 0px 1px 2px rgba(60, 64, 67, 0.3), 0px 1px 3px 1px rgba(60, 64, 67, 0.15);\n",
              "      fill: #174EA6;\n",
              "    }\n",
              "\n",
              "    [theme=dark] .colab-df-convert {\n",
              "      background-color: #3B4455;\n",
              "      fill: #D2E3FC;\n",
              "    }\n",
              "\n",
              "    [theme=dark] .colab-df-convert:hover {\n",
              "      background-color: #434B5C;\n",
              "      box-shadow: 0px 1px 3px 1px rgba(0, 0, 0, 0.15);\n",
              "      filter: drop-shadow(0px 1px 2px rgba(0, 0, 0, 0.3));\n",
              "      fill: #FFFFFF;\n",
              "    }\n",
              "  </style>\n",
              "\n",
              "      <script>\n",
              "        const buttonEl =\n",
              "          document.querySelector('#df-fbd8e909-15fc-4839-a4ec-7bf9aeedefbf button.colab-df-convert');\n",
              "        buttonEl.style.display =\n",
              "          google.colab.kernel.accessAllowed ? 'block' : 'none';\n",
              "\n",
              "        async function convertToInteractive(key) {\n",
              "          const element = document.querySelector('#df-fbd8e909-15fc-4839-a4ec-7bf9aeedefbf');\n",
              "          const dataTable =\n",
              "            await google.colab.kernel.invokeFunction('convertToInteractive',\n",
              "                                                     [key], {});\n",
              "          if (!dataTable) return;\n",
              "\n",
              "          const docLinkHtml = 'Like what you see? Visit the ' +\n",
              "            '<a target=\"_blank\" href=https://colab.research.google.com/notebooks/data_table.ipynb>data table notebook</a>'\n",
              "            + ' to learn more about interactive tables.';\n",
              "          element.innerHTML = '';\n",
              "          dataTable['output_type'] = 'display_data';\n",
              "          await google.colab.output.renderOutput(dataTable, element);\n",
              "          const docLink = document.createElement('div');\n",
              "          docLink.innerHTML = docLinkHtml;\n",
              "          element.appendChild(docLink);\n",
              "        }\n",
              "      </script>\n",
              "    </div>\n",
              "  </div>\n",
              "  "
            ],
            "text/plain": [
              "        ano  cod_orgao  ... orcamento_empenhado  orcamento_realizado\n",
              "0      2018      20000  ...             9148.50              8843.55\n",
              "1      2018      20000  ...                0.00                 0.00\n",
              "2      2018      20000  ...           847291.48            783049.69\n",
              "3      2018      20000  ...           115433.05            106156.00\n",
              "4      2018      20000  ...             1680.65              1503.74\n",
              "...     ...        ...  ...                 ...                  ...\n",
              "24779  2021      81000  ...                0.00                 0.00\n",
              "24780  2021      81000  ...                0.00                 0.00\n",
              "24781  2021      81000  ...          1494820.00                 0.00\n",
              "24782  2021      81000  ...                0.00                 0.00\n",
              "24783  2021      81000  ...                0.00                 0.00\n",
              "\n",
              "[104423 rows x 23 columns]"
            ]
          },
          "metadata": {},
          "execution_count": 159
        }
      ]
    },
    {
      "cell_type": "markdown",
      "source": [
        ""
      ],
      "metadata": {
        "id": "sU53czHGzVYO"
      }
    },
    {
      "cell_type": "code",
      "source": [
        "qnt_funcao.shape"
      ],
      "metadata": {
        "colab": {
          "base_uri": "https://localhost:8080/"
        },
        "id": "HjRmf22RiW0j",
        "outputId": "edeae897-84a5-4aac-8b65-fe28fd04f30a"
      },
      "execution_count": null,
      "outputs": [
        {
          "output_type": "execute_result",
          "data": {
            "text/plain": [
              "(25, 10)"
            ]
          },
          "metadata": {},
          "execution_count": 63
        }
      ]
    },
    {
      "cell_type": "code",
      "source": [
        "df.isnull().sum()"
      ],
      "metadata": {
        "colab": {
          "base_uri": "https://localhost:8080/"
        },
        "id": "wdHVc-ySiXm2",
        "outputId": "2ad1f61a-95cf-47d3-98ba-5140eca19c84"
      },
      "execution_count": null,
      "outputs": [
        {
          "output_type": "execute_result",
          "data": {
            "text/plain": [
              "NOME ÓRGÃO SUPERIOR           0\n",
              "NOME ÓRGÃO SUBORDINADO        0\n",
              "NOME UNIDADE ORÇAMENTÁRIA     0\n",
              "NOME FUNÇÃO                   0\n",
              "NOME SUBFUNÇÃO                0\n",
              "NOME PROGRAMA ORÇAMENTÁRIO    0\n",
              "NOME GRUPO DE DESPESA         0\n",
              "orcamento_inicial             0\n",
              "orcamento_atualizado          0\n",
              "orcamento_empenhado           0\n",
              "orcamento_realizado           0\n",
              "dtype: int64"
            ]
          },
          "metadata": {},
          "execution_count": 64
        }
      ]
    },
    {
      "cell_type": "code",
      "source": [
        "import seaborn as sns\n",
        "import matplotlib.pyplot as plt\n",
        "plt.style.use(\"dark_background\")\n",
        "plt.figure(figsize=(30,8))\n"
      ],
      "metadata": {
        "id": "uEI3XnqBkdmT",
        "colab": {
          "base_uri": "https://localhost:8080/",
          "height": 52
        },
        "outputId": "5fbfc4eb-b986-48d7-da58-9c3643d18c0d"
      },
      "execution_count": 125,
      "outputs": [
        {
          "output_type": "execute_result",
          "data": {
            "text/plain": [
              "<Figure size 2160x576 with 0 Axes>"
            ]
          },
          "metadata": {},
          "execution_count": 125
        },
        {
          "output_type": "display_data",
          "data": {
            "text/plain": [
              "<Figure size 2160x576 with 0 Axes>"
            ]
          },
          "metadata": {}
        }
      ]
    },
    {
      "cell_type": "code",
      "metadata": {
        "colab": {
          "base_uri": "https://localhost:8080/",
          "height": 351
        },
        "id": "5BGOzEPJ3dYP",
        "outputId": "707389ef-85ab-4528-8e92-2eb8785c43f0"
      },
      "source": [
        "ax = sns.countplot(df['cod_grp_despesa'], hue=df['nome_grp_despesa'])\n",
        "ax.set_title(\"QUANTIDADE POR GRUPO DE DESPESAS\")\n",
        "ax.set_ylabel(\"QUANTIDADE\")\n",
        "ax = ax\n"
      ],
      "execution_count": 131,
      "outputs": [
        {
          "output_type": "stream",
          "name": "stderr",
          "text": [
            "/usr/local/lib/python3.7/dist-packages/seaborn/_decorators.py:43: FutureWarning: Pass the following variable as a keyword arg: x. From version 0.12, the only valid positional argument will be `data`, and passing other arguments without an explicit keyword will result in an error or misinterpretation.\n",
            "  FutureWarning\n"
          ]
        },
        {
          "output_type": "display_data",
          "data": {
            "image/png": "[encoded data removed]",
            "text/plain": [
              "<Figure size 432x288 with 1 Axes>"
            ]
          },
          "metadata": {}
        }
      ]
    },
    {
      "cell_type": "code",
      "source": [
        "sns.boxplot(x='orcamento_realizado', data=df)"
      ],
      "metadata": {
        "colab": {
          "base_uri": "https://localhost:8080/",
          "height": 297
        },
        "id": "G0BXuG-_vUXg",
        "outputId": "f52b3c8f-eb49-470e-ae60-e79263d43b23"
      },
      "execution_count": 136,
      "outputs": [
        {
          "output_type": "execute_result",
          "data": {
            "text/plain": [
              "<matplotlib.axes._subplots.AxesSubplot at 0x7fbf08ac7990>"
            ]
          },
          "metadata": {},
          "execution_count": 136
        },
        {
          "output_type": "display_data",
          "data": {
            "image/png": "[encoded data removed]",
            "text/plain": [
              "<Figure size 432x288 with 1 Axes>"
            ]
          },
          "metadata": {}
        }
      ]
    },
    {
      "cell_type": "code",
      "source": [
        "df['orcamento_inicial'].plot(kind='hist')"
      ],
      "metadata": {
        "colab": {
          "base_uri": "https://localhost:8080/",
          "height": 295
        },
        "id": "Rn0bvLNbx5Wy",
        "outputId": "8300dd67-fcce-4189-8a7f-a3da72ddf185"
      },
      "execution_count": 138,
      "outputs": [
        {
          "output_type": "execute_result",
          "data": {
            "text/plain": [
              "<matplotlib.axes._subplots.AxesSubplot at 0x7fbf08979150>"
            ]
          },
          "metadata": {},
          "execution_count": 138
        },
        {
          "output_type": "display_data",
          "data": {
            "image/png": "[encoded data removed]",
            "text/plain": [
              "<Figure size 432x288 with 1 Axes>"
            ]
          },
          "metadata": {}
        }
      ]
    },
    {
      "cell_type": "code",
      "source": [
        "df['interesse'] = df['nome_funcao'].filter(df['nome_funcao == Agricultura'])"
      ],
      "metadata": {
        "colab": {
          "base_uri": "https://localhost:8080/",
          "height": 572
        },
        "id": "vAvI7eWI2VKY",
        "outputId": "e595243b-87c8-4e9a-ff4d-bdccf82abd45"
      },
      "execution_count": 158,
      "outputs": [
        {
          "output_type": "error",
          "ename": "KeyError",
          "evalue": "ignored",
          "traceback": [
            "\u001b[0;31m---------------------------------------------------------------------------\u001b[0m",
            "\u001b[0;31mKeyError\u001b[0m                                  Traceback (most recent call last)",
            "\u001b[0;32m/usr/local/lib/python3.7/dist-packages/pandas/core/indexes/base.py\u001b[0m in \u001b[0;36mget_loc\u001b[0;34m(self, key, method, tolerance)\u001b[0m\n\u001b[1;32m   2897\u001b[0m             \u001b[0;32mtry\u001b[0m\u001b[0;34m:\u001b[0m\u001b[0;34m\u001b[0m\u001b[0;34m\u001b[0m\u001b[0m\n\u001b[0;32m-> 2898\u001b[0;31m                 \u001b[0;32mreturn\u001b[0m \u001b[0mself\u001b[0m\u001b[0;34m.\u001b[0m\u001b[0m_engine\u001b[0m\u001b[0;34m.\u001b[0m\u001b[0mget_loc\u001b[0m\u001b[0;34m(\u001b[0m\u001b[0mcasted_key\u001b[0m\u001b[0;34m)\u001b[0m\u001b[0;34m\u001b[0m\u001b[0;34m\u001b[0m\u001b[0m\n\u001b[0m\u001b[1;32m   2899\u001b[0m             \u001b[0;32mexcept\u001b[0m \u001b[0mKeyError\u001b[0m \u001b[0;32mas\u001b[0m \u001b[0merr\u001b[0m\u001b[0;34m:\u001b[0m\u001b[0;34m\u001b[0m\u001b[0;34m\u001b[0m\u001b[0m\n",
            "\u001b[0;32mpandas/_libs/index.pyx\u001b[0m in \u001b[0;36mpandas._libs.index.IndexEngine.get_loc\u001b[0;34m()\u001b[0m\n",
            "\u001b[0;32mpandas/_libs/index.pyx\u001b[0m in \u001b[0;36mpandas._libs.index.IndexEngine.get_loc\u001b[0;34m()\u001b[0m\n",
            "\u001b[0;32mpandas/_libs/hashtable_class_helper.pxi\u001b[0m in \u001b[0;36mpandas._libs.hashtable.PyObjectHashTable.get_item\u001b[0;34m()\u001b[0m\n",
            "\u001b[0;32mpandas/_libs/hashtable_class_helper.pxi\u001b[0m in \u001b[0;36mpandas._libs.hashtable.PyObjectHashTable.get_item\u001b[0;34m()\u001b[0m\n",
            "\u001b[0;31mKeyError\u001b[0m: 'nome_funcao == Agricultura'",
            "\nThe above exception was the direct cause of the following exception:\n",
            "\u001b[0;31mKeyError\u001b[0m                                  Traceback (most recent call last)",
            "\u001b[0;32m<ipython-input-158-eb9479906fd2>\u001b[0m in \u001b[0;36m<module>\u001b[0;34m()\u001b[0m\n\u001b[0;32m----> 1\u001b[0;31m \u001b[0mdf\u001b[0m\u001b[0;34m[\u001b[0m\u001b[0;34m'interesse'\u001b[0m\u001b[0;34m]\u001b[0m \u001b[0;34m=\u001b[0m \u001b[0mdf\u001b[0m\u001b[0;34m[\u001b[0m\u001b[0;34m'nome_funcao'\u001b[0m\u001b[0;34m]\u001b[0m\u001b[0;34m.\u001b[0m\u001b[0mfilter\u001b[0m\u001b[0;34m(\u001b[0m\u001b[0mdf\u001b[0m\u001b[0;34m[\u001b[0m\u001b[0;34m'nome_funcao == Agricultura'\u001b[0m\u001b[0;34m]\u001b[0m\u001b[0;34m)\u001b[0m\u001b[0;34m\u001b[0m\u001b[0;34m\u001b[0m\u001b[0m\n\u001b[0m",
            "\u001b[0;32m/usr/local/lib/python3.7/dist-packages/pandas/core/frame.py\u001b[0m in \u001b[0;36m__getitem__\u001b[0;34m(self, key)\u001b[0m\n\u001b[1;32m   2904\u001b[0m             \u001b[0;32mif\u001b[0m \u001b[0mself\u001b[0m\u001b[0;34m.\u001b[0m\u001b[0mcolumns\u001b[0m\u001b[0;34m.\u001b[0m\u001b[0mnlevels\u001b[0m \u001b[0;34m>\u001b[0m \u001b[0;36m1\u001b[0m\u001b[0;34m:\u001b[0m\u001b[0;34m\u001b[0m\u001b[0;34m\u001b[0m\u001b[0m\n\u001b[1;32m   2905\u001b[0m                 \u001b[0;32mreturn\u001b[0m \u001b[0mself\u001b[0m\u001b[0;34m.\u001b[0m\u001b[0m_getitem_multilevel\u001b[0m\u001b[0;34m(\u001b[0m\u001b[0mkey\u001b[0m\u001b[0;34m)\u001b[0m\u001b[0;34m\u001b[0m\u001b[0;34m\u001b[0m\u001b[0m\n\u001b[0;32m-> 2906\u001b[0;31m             \u001b[0mindexer\u001b[0m \u001b[0;34m=\u001b[0m \u001b[0mself\u001b[0m\u001b[0;34m.\u001b[0m\u001b[0mcolumns\u001b[0m\u001b[0;34m.\u001b[0m\u001b[0mget_loc\u001b[0m\u001b[0;34m(\u001b[0m\u001b[0mkey\u001b[0m\u001b[0;34m)\u001b[0m\u001b[0;34m\u001b[0m\u001b[0;34m\u001b[0m\u001b[0m\n\u001b[0m\u001b[1;32m   2907\u001b[0m             \u001b[0;32mif\u001b[0m \u001b[0mis_integer\u001b[0m\u001b[0;34m(\u001b[0m\u001b[0mindexer\u001b[0m\u001b[0;34m)\u001b[0m\u001b[0;34m:\u001b[0m\u001b[0;34m\u001b[0m\u001b[0;34m\u001b[0m\u001b[0m\n\u001b[1;32m   2908\u001b[0m                 \u001b[0mindexer\u001b[0m \u001b[0;34m=\u001b[0m \u001b[0;34m[\u001b[0m\u001b[0mindexer\u001b[0m\u001b[0;34m]\u001b[0m\u001b[0;34m\u001b[0m\u001b[0;34m\u001b[0m\u001b[0m\n",
            "\u001b[0;32m/usr/local/lib/python3.7/dist-packages/pandas/core/indexes/base.py\u001b[0m in \u001b[0;36mget_loc\u001b[0;34m(self, key, method, tolerance)\u001b[0m\n\u001b[1;32m   2898\u001b[0m                 \u001b[0;32mreturn\u001b[0m \u001b[0mself\u001b[0m\u001b[0;34m.\u001b[0m\u001b[0m_engine\u001b[0m\u001b[0;34m.\u001b[0m\u001b[0mget_loc\u001b[0m\u001b[0;34m(\u001b[0m\u001b[0mcasted_key\u001b[0m\u001b[0;34m)\u001b[0m\u001b[0;34m\u001b[0m\u001b[0;34m\u001b[0m\u001b[0m\n\u001b[1;32m   2899\u001b[0m             \u001b[0;32mexcept\u001b[0m \u001b[0mKeyError\u001b[0m \u001b[0;32mas\u001b[0m \u001b[0merr\u001b[0m\u001b[0;34m:\u001b[0m\u001b[0;34m\u001b[0m\u001b[0;34m\u001b[0m\u001b[0m\n\u001b[0;32m-> 2900\u001b[0;31m                 \u001b[0;32mraise\u001b[0m \u001b[0mKeyError\u001b[0m\u001b[0;34m(\u001b[0m\u001b[0mkey\u001b[0m\u001b[0;34m)\u001b[0m \u001b[0;32mfrom\u001b[0m \u001b[0merr\u001b[0m\u001b[0;34m\u001b[0m\u001b[0;34m\u001b[0m\u001b[0m\n\u001b[0m\u001b[1;32m   2901\u001b[0m \u001b[0;34m\u001b[0m\u001b[0m\n\u001b[1;32m   2902\u001b[0m         \u001b[0;32mif\u001b[0m \u001b[0mtolerance\u001b[0m \u001b[0;32mis\u001b[0m \u001b[0;32mnot\u001b[0m \u001b[0;32mNone\u001b[0m\u001b[0;34m:\u001b[0m\u001b[0;34m\u001b[0m\u001b[0;34m\u001b[0m\u001b[0m\n",
            "\u001b[0;31mKeyError\u001b[0m: 'nome_funcao == Agricultura'"
          ]
        }
      ]
    },
    {
      "cell_type": "code",
      "source": [
        "ax = sns.countplot(df['ano'], hue=df['nome_funcao'])"
      ],
      "metadata": {
        "colab": {
          "base_uri": "https://localhost:8080/",
          "height": 549
        },
        "id": "9JIFZB6FzP2X",
        "outputId": "763c27f2-4c5d-414d-d00a-251f54111d72"
      },
      "execution_count": 145,
      "outputs": [
        {
          "output_type": "stream",
          "name": "stderr",
          "text": [
            "/usr/local/lib/python3.7/dist-packages/seaborn/_decorators.py:43: FutureWarning: Pass the following variable as a keyword arg: x. From version 0.12, the only valid positional argument will be `data`, and passing other arguments without an explicit keyword will result in an error or misinterpretation.\n",
            "  FutureWarning\n"
          ]
        },
        {
          "output_type": "display_data",
          "data": {
            "image/png": "[encoded data removed]",
            "text/plain": [
              "<Figure size 432x288 with 1 Axes>"
            ]
          },
          "metadata": {}
        }
      ]
    },
    {
      "cell_type": "code",
      "source": [
        "legenda = plt.legend(bbox_to_anchor=(1.05, 1), loc='upper left', borderaxespad=0)\n",
        "ax = sns.countplot(df['ano'], hue=df['nome_orgao'])\n",
        "print(ax, legenda)"
      ],
      "metadata": {
        "colab": {
          "base_uri": "https://localhost:8080/",
          "height": 556
        },
        "id": "Jde-7DarzaUP",
        "outputId": "feef09e4-a735-4c39-8de7-6c9542bba885"
      },
      "execution_count": 156,
      "outputs": [
        {
          "output_type": "stream",
          "name": "stderr",
          "text": [
            "No handles with labels found to put in legend.\n",
            "/usr/local/lib/python3.7/dist-packages/seaborn/_decorators.py:43: FutureWarning: Pass the following variable as a keyword arg: x. From version 0.12, the only valid positional argument will be `data`, and passing other arguments without an explicit keyword will result in an error or misinterpretation.\n",
            "  FutureWarning\n"
          ]
        },
        {
          "output_type": "stream",
          "name": "stdout",
          "text": [
            "AxesSubplot(0.125,0.125;0.775x0.755) Legend\n"
          ]
        },
        {
          "output_type": "display_data",
          "data": {
            "image/png": "[encoded data removed]",
            "text/plain": [
              "<Figure size 432x288 with 1 Axes>"
            ]
          },
          "metadata": {}
        }
      ]
    },
    {
      "cell_type": "code",
      "source": [
        "df.columns"
      ],
      "metadata": {
        "colab": {
          "base_uri": "https://localhost:8080/"
        },
        "id": "W3NkDDQx4366",
        "outputId": "43cab8db-58bf-4beb-a189-c790488ee9ea"
      },
      "execution_count": 161,
      "outputs": [
        {
          "output_type": "execute_result",
          "data": {
            "text/plain": [
              "Index(['ano', 'cod_orgao', 'nome_orgao', 'cod_sub', 'nome_sub', 'cod_unidade',\n",
              "       'nome_unidade', 'cod_funcao', 'nome_funcao', 'cod_subfuncao',\n",
              "       'nome_subfuncao', 'cod_programa', 'nome_programa', 'cod_acao',\n",
              "       'nome_acao', 'cod_grp_despesa', 'nome_grp_despesa', 'cod_elemento',\n",
              "       'nome_despesa', 'orcamento_inicial', 'orcamento_atualizado',\n",
              "       'orcamento_empenhado', 'orcamento_realizado'],\n",
              "      dtype='object')"
            ]
          },
          "metadata": {},
          "execution_count": 161
        }
      ]
    },
    {
      "cell_type": "code",
      "source": [
        "sns.scatterplot(\n",
        "    data=df, x=\"orcamento_realizado\", y=\"orcamento_inicial\", hue=\"ano\",\n",
        "    sizes=(20, 200), legend=\"full\", palette='hot')\n"
      ],
      "metadata": {
        "id": "Lm7siDZk00hY"
      },
      "execution_count": null,
      "outputs": []
    },
    {
      "cell_type": "code",
      "source": [
        "df['orcamento_inicial'].plot(kind='bar')"
      ],
      "metadata": {
        "id": "wctu0ZHl4o1t"
      },
      "execution_count": null,
      "outputs": []
    },
    {
      "cell_type": "code",
      "source": [
        ""
      ],
      "metadata": {
        "id": "kMOAC3qe50OF"
      },
      "execution_count": null,
      "outputs": []
    }
  ]
}